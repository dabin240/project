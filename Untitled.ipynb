{
 "cells": [
  {
   "cell_type": "code",
   "execution_count": null,
   "id": "a1da99a5-0f44-483e-b535-6476e3349ab9",
   "metadata": {},
   "outputs": [],
   "source": [
    "기계학습및실습 2024-2학기 중간과제\n",
    "\n",
    "타이타닉 데이터셋 분석\n",
    "\n",
    "인공지능융합학부 정다빈(2021100924)"
   ]
  },
  {
   "cell_type": "code",
   "execution_count": null,
   "id": "a01e6657-4f68-47f0-9bf3-8356f8560c0d",
   "metadata": {},
   "outputs": [],
   "source": []
  }
 ],
 "metadata": {
  "kernelspec": {
   "display_name": "Python 3 (ipykernel)",
   "language": "python",
   "name": "python3"
  },
  "language_info": {
   "codemirror_mode": {
    "name": "ipython",
    "version": 3
   },
   "file_extension": ".py",
   "mimetype": "text/x-python",
   "name": "python",
   "nbconvert_exporter": "python",
   "pygments_lexer": "ipython3",
   "version": "3.11.2"
  }
 },
 "nbformat": 4,
 "nbformat_minor": 5
}
